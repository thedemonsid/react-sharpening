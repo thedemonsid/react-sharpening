{
 "cells": [
  {
   "cell_type": "code",
   "execution_count": 13,
   "metadata": {},
   "outputs": [],
   "source": [
    "from flask import Flask, request, jsonify\n",
    "import numpy as np # linear algebra\n",
    "import pandas as pd # data processing, CSV file I/O (e.g. pd.read_csv)\n",
    "\n",
    "#4-01-26T20:44:50.764490Z\",\"iopub.execute_input\":\"2024-01-26T20:44:50.764987Z\",\"iopub.status.idle\":\"2024-01-26T20:45:02.374046Z\",\"shell.execute_reply.started\":\"2024-01-26T20:44:50.764954Z\",\"shell.execute_reply\":\"2024-01-26T20:45:02.372894Z\"}}\n",
    "\n",
    "\n",
    "# %% [code] {\"execution\":{\"iopub.status.busy\":\"2024-01-26T20:45:02.375499Z\",\"iopub.execute_input\":\"2024-01-26T20:45:02.375819Z\",\"iopub.status.idle\":\"2024-01-26T20:45:02.382170Z\",\"shell.execute_reply.started\":\"2024-01-26T20:45:02.375789Z\",\"shell.execute_reply\":\"2024-01-26T20:45:02.381146Z\"}}\n",
    "import gc\n",
    "import re\n",
    "from torch.utils.data import Dataset, DataLoader\n",
    "import torch.nn as nn\n",
    "import torch.nn.functional as F\n",
    "import torch\n",
    "import chess"
   ]
  },
  {
   "cell_type": "code",
   "execution_count": 14,
   "metadata": {},
   "outputs": [],
   "source": [
    "class module(nn.Module):\n",
    "\n",
    "    def __init__(self, hidden_size):\n",
    "        super(module, self).__init__()\n",
    "        self.conv1 = nn.Conv2d(hidden_size, hidden_size, 3, stride=1, padding=1)\n",
    "        self.conv2 = nn.Conv2d(hidden_size, hidden_size, 3, stride=1, padding=1)\n",
    "        self.bn1 = nn.BatchNorm2d(hidden_size)\n",
    "        self.bn2 = nn.BatchNorm2d(hidden_size)\n",
    "        self.activation1 = nn.SELU()\n",
    "        self.activation2 = nn.SELU()\n",
    "\n",
    "    def forward(self, x):\n",
    "        x_input = torch.clone(x)\n",
    "        x = self.conv1(x)\n",
    "        x = self.bn1(x)\n",
    "        x = self.activation1(x)\n",
    "        x = self.conv2(x)\n",
    "        x = self.bn2(x)\n",
    "        x += x_input\n",
    "        x = self.activation2(x)\n",
    "        return x\n",
    "class ChessNet(nn.Module):\n",
    "\n",
    "    def __init__(self, hidden_layers=4, hidden_size=200):\n",
    "        super(ChessNet, self).__init__()\n",
    "        self.hidden_layers = hidden_layers\n",
    "        self.input_layer = nn.Conv2d(6, hidden_size, 3, stride=1, padding=1)\n",
    "        self.module_list = nn.ModuleList([module(hidden_size) for i in range(hidden_layers)])\n",
    "        self.output_layer = nn.Conv2d(hidden_size, 2, 3, stride=1, padding=1)\n",
    "\n",
    "    def forward(self, x):\n",
    "\n",
    "        x = self.input_layer(x)\n",
    "        x = F.relu(x)\n",
    "\n",
    "        for i in range(self.hidden_layers):\n",
    "            x = self.module_list[i](x)\n",
    "\n",
    "        x = self.output_layer(x)\n",
    "\n",
    "        return x\n"
   ]
  },
  {
   "cell_type": "code",
   "execution_count": 15,
   "metadata": {},
   "outputs": [],
   "source": [
    "letter_2_num = {'a': 0, 'b': 1, 'c': 2, 'd': 3, 'e': 4, 'f': 5, 'g': 6, 'h': 7}\n",
    "num_2_letter = {0: 'a', 1: 'b', 2: 'c', 3: 'd', 4: 'e', 5: 'f', 6: 'g', 7: 'h'}"
   ]
  },
  {
   "cell_type": "code",
   "execution_count": 16,
   "metadata": {},
   "outputs": [],
   "source": [
    "#making chess board layers\n",
    "def create_rep_layer(board, type):\n",
    "\n",
    "    s = str(board)\n",
    "    s = re.sub(f'[^{type}{type.upper()} \\n]', '.', s)   \n",
    "    s = re.sub(f'{type}', '-1', s)\n",
    "    s = re.sub(f'{type.upper()}', '1', s)\n",
    "    s = re.sub(f'\\.', '0', s)\n",
    "\n",
    "    board_mat = []\n",
    "    for row in s.split('\\n'):\n",
    "        row = row.split(' ')\n",
    "        row = [int(x) for x in row]\n",
    "        board_mat.append(row)\n",
    "    \n",
    "    return np.array(board_mat)"
   ]
  },
  {
   "cell_type": "code",
   "execution_count": 17,
   "metadata": {},
   "outputs": [],
   "source": [
    "#single move ki representation\n",
    "def move_2_rep(move, board):\n",
    "    board.push_san(move).uci()\n",
    "    move = str(board.pop())\n",
    "\n",
    "    from_output_layer = np.zeros((8,8))\n",
    "    from_row = 8 - int(move[1])\n",
    "    from_column = letter_2_num[move[0]]\n",
    "    from_output_layer[from_row, from_column] = 1\n",
    "\n",
    "    to_output_layer = np.zeros((8,8))\n",
    "    to_row = 8 - int(move[3])\n",
    "    tow_column = letter_2_num[move[2]]\n",
    "    to_output_layer[to_row, tow_column] = 1\n",
    "\n",
    "    return np.stack([from_output_layer, to_output_layer])"
   ]
  },
  {
   "cell_type": "code",
   "execution_count": 18,
   "metadata": {},
   "outputs": [],
   "source": [
    "def board_2_rep(board):\n",
    "    pieces = ['p', 'r', 'n', 'b', 'q', 'k']\n",
    "    layers = []\n",
    "    for piece in pieces:\n",
    "        layers.append(create_rep_layer(board, piece))\n",
    "    board_rep = np.stack(layers)\n",
    "    return board_rep"
   ]
  },
  {
   "cell_type": "code",
   "execution_count": 19,
   "metadata": {},
   "outputs": [],
   "source": [
    "def return_mat(board):\n",
    "    notation_mapping = {   #standard to sidhu notation\n",
    "        'r': 'b-rook',\n",
    "        'n': 'b-knight',\n",
    "        'b': 'b-bishop',\n",
    "        'q': 'b-queen',\n",
    "        'k': 'b-king',\n",
    "        'p': 'b-pawn',\n",
    "        'R': 'w-rook',\n",
    "        'N': 'w-knight',\n",
    "        'B': 'w-bishop',\n",
    "        'Q': 'w-queen',\n",
    "        'K': 'w-king',\n",
    "        'P': 'w-pawn',\n",
    "        '.': 'null'\n",
    "    }\n",
    "    board_str = str(board)\n",
    "    # Replace the standard notation with custom notation\n",
    "    new_board_chars = []\n",
    "    for char in board_str:\n",
    "        if char in notation_mapping:\n",
    "            new_board_chars.append(str(notation_mapping[char]))\n",
    "        else:\n",
    "            new_board_chars.append(char)\n",
    "\n",
    "    # Join the modified characters to form the new board string\n",
    "    new_board_str = ' '.join(new_board_chars)\n",
    "\n",
    "    # Print the modified board string\n",
    "    return new_board_str\n",
    "\n",
    "def input_board(board):\n",
    "    # Convert the board string to a 2D list\n",
    "    # board = [row.split() for row in board_str.split('\\n')]\n",
    "\n",
    "    reverse_notation_mapping = {\n",
    "        'b-rook': 'r',\n",
    "        'b-knight': 'n',\n",
    "        'b-bishop': 'b',\n",
    "        'b-queen': 'q',\n",
    "        'b-king': 'k',\n",
    "        'b-pawn': 'p',\n",
    "        'w-rook': 'R',\n",
    "        'w-knight': 'N',\n",
    "        'w-bishop': 'B',\n",
    "        'w-queen': 'Q',\n",
    "        'w-king': 'K',\n",
    "        'w-pawn': 'P',\n",
    "        'null': '.'\n",
    "    }\n",
    "\n",
    "    # Convert custom notation to standard notation\n",
    "    for i in range(8):\n",
    "        for j in range(8):\n",
    "            board[i][j] = reverse_notation_mapping[board[i][j]]\n",
    "\n",
    "    # Convert the 2D list to a FEN string\n",
    "    fen = ''\n",
    "    for row in board:  # 8th row to 1st row\n",
    "        empty_count = 0\n",
    "        for square in row:  # 'a' to 'h'\n",
    "            if square == '.':  # Empty square\n",
    "                empty_count += 1\n",
    "            else:  # Square is occupied by a piece\n",
    "                if empty_count > 0:\n",
    "                    fen += str(empty_count)\n",
    "                    empty_count = 0\n",
    "                fen += square\n",
    "        if empty_count > 0:\n",
    "            fen += str(empty_count)\n",
    "        fen += '/'\n",
    "    fen = fen[:-1]  # Remove the trailing '/'\n",
    "\n",
    "    # Create a chess.Board object\n",
    "    board = chess.Board(fen)\n",
    "    return board\n"
   ]
  },
  {
   "cell_type": "code",
   "execution_count": 20,
   "metadata": {},
   "outputs": [],
   "source": [
    "def checkmate_single(board):\n",
    "    board = board.copy()\n",
    "    legal_moves = list(board.legal_moves)\n",
    "    for move in legal_moves:\n",
    "        board.push_uci(str(move))\n",
    "        if board.is_checkmate():\n",
    "            move = board.pop()\n",
    "            return move\n",
    "        _ = board.pop()\n",
    "    return None\n",
    "\n",
    "# %% [code] {\"execution\":{\"iopub.status.busy\":\"2024-01-26T20:45:02.592224Z\",\"iopub.status.idle\":\"2024-01-26T20:45:02.592727Z\",\"shell.execute_reply.started\":\"2024-01-26T20:45:02.592488Z\",\"shell.execute_reply\":\"2024-01-26T20:45:02.592511Z\"}}\n",
    "def distribution_over_moves(vals):\n",
    "    probs = np.array(vals)\n",
    "    probs = np.exp(probs)\n",
    "    probs = probs / probs.sum()\n",
    "    probs = probs ** 3\n",
    "    probs = probs / probs.sum()\n",
    "    return probs\n",
    "\n",
    "# %% [code] {\"execution\":{\"iopub.status.busy\":\"2024-01-26T20:45:02.594041Z\",\"iopub.status.idle\":\"2024-01-26T20:45:02.594945Z\",\"shell.execute_reply.started\":\"2024-01-26T20:45:02.594715Z\",\"shell.execute_reply\":\"2024-01-26T20:45:02.594739Z\"}}\n",
    "def predict(x):\n",
    "    model = ChessNet(hidden_layers=4, hidden_size=200)\n",
    "    model.load_state_dict(torch.load('model1.pth'))\n",
    "    model = model.cuda()\n",
    "    x = x.cuda()\n",
    "    model.eval()\n",
    "    with torch.no_grad():\n",
    "        outputs = model(x)\n",
    "        return outputs.cpu().numpy()        \n",
    "    "
   ]
  },
  {
   "cell_type": "code",
   "execution_count": 21,
   "metadata": {},
   "outputs": [],
   "source": [
    "def choose_move(board,color):\n",
    "    board = input_board(board)\n",
    "    print(board)\n",
    "\n",
    "    legal_moves = list(board.legal_moves)\n",
    "\n",
    "    move = checkmate_single(board)   #checking if single move me possible hai check mate\n",
    "\n",
    "    if move is not None:\n",
    "        chosen_move_uci = move.uci()  # Convert to UCI format\n",
    "        board.push_uci(chosen_move_uci)  # Now this should work\n",
    "        b_mat = return_mat(board)   #if yes..kardo\n",
    "        return b_mat\n",
    "\n",
    "    x = torch.Tensor(board_2_rep(board)).float().to('cuda')\n",
    "    if color == 'BLACK':\n",
    "        x *= -1\n",
    "    x = x.unsqueeze(0)\n",
    "    move = predict(x)\n",
    "    # print(move)\n",
    "    vals = []\n",
    "    froms = [str(legal_move)[:2] for legal_move in legal_moves]\n",
    "    froms = list(set(froms))\n",
    "    for from_ in froms:\n",
    "        # print(move[0,:,:][0][0])\n",
    "        val = move[0,:,:][0][8-int(from_[1]), letter_2_num[from_[0]]]\n",
    "        # print(from_)\n",
    "        vals.append(val)\n",
    "\n",
    "    probs = distribution_over_moves(vals)\n",
    "\n",
    "    chosen_from = str(np.random.choice(froms, size=1, p=probs)[0])[:2]\n",
    "\n",
    "    vals = []\n",
    "    for legal_move in legal_moves:\n",
    "        from_ = str(legal_move)[:2]\n",
    "        if from_ == chosen_from:\n",
    "            to = str(legal_move)[2:]\n",
    "            # print(move[0,:,:][0])\n",
    "            # print(move[0,:,:][1])\n",
    "            val = move[0,:,:][1][8 - int(to[1]), letter_2_num[to[0]]]\n",
    "            vals.append(val)\n",
    "        else:\n",
    "            vals.append(0)\n",
    "    chosen_move = legal_moves[np.argmax(vals)]\n",
    "    # Create a new chess board\n",
    "    # board = chess.Board()\n",
    "    # Assuming chosen_move is your Move object\n",
    "    chosen_move_uci = chosen_move.uci()  # Convert to UCI format\n",
    "    board.push_uci(chosen_move_uci)  # Now this should work\n",
    "\n",
    "# Push a move to the board\n",
    "    # board.push_uci(chosen_move)\n",
    "    b_mat = return_mat(board)\n",
    "    print(b_mat)\n",
    "    return b_mat"
   ]
  },
  {
   "cell_type": "code",
   "execution_count": 22,
   "metadata": {},
   "outputs": [
    {
     "name": "stdout",
     "output_type": "stream",
     "text": [
      "CUDA is available!\n"
     ]
    }
   ],
   "source": [
    "if torch.cuda.is_available():\n",
    "    print(\"CUDA is available!\")\n",
    "else:\n",
    "    print(\"CUDA is not available.\")"
   ]
  },
  {
   "cell_type": "code",
   "execution_count": 23,
   "metadata": {},
   "outputs": [
    {
     "name": "stdout",
     "output_type": "stream",
     "text": [
      "r n b q k b n r\n",
      "p p . p p p p p\n",
      ". . p . . . . .\n",
      ". . . . . . . .\n",
      ". . . . . . . .\n",
      ". . . P . . . .\n",
      "P P P P P P P P\n",
      "R N B Q K B N R\n",
      "b-rook   b-knight   b-bishop   b-queen   b-king   b-bishop   b-knight   b-rook \n",
      " b-pawn   b-pawn   null   b-pawn   b-pawn   b-pawn   b-pawn   b-pawn \n",
      " null   null   b-pawn   null   null   null   null   null \n",
      " null   null   null   null   null   null   null   null \n",
      " null   null   null   null   w-pawn   null   null   null \n",
      " null   null   null   w-pawn   null   null   null   null \n",
      " w-pawn   w-pawn   w-pawn   w-pawn   null   w-pawn   w-pawn   w-pawn \n",
      " w-rook   w-knight   w-bishop   w-queen   w-king   w-bishop   w-knight   w-rook\n"
     ]
    }
   ],
   "source": [
    "import chess\n",
    "cboard = [\n",
    "            [\"b-rook\", \"b-knight\", \"b-bishop\", \"b-queen\", \"b-king\", \"b-bishop\", \"b-knight\", \"b-rook\"],\n",
    "            [\"b-pawn\", \"b-pawn\", \"null\", \"b-pawn\", \"b-pawn\", \"b-pawn\", \"b-pawn\", \"b-pawn\"],\n",
    "            [\"null\", \"null\", \"b-pawn\", \"null\", \"null\", \"null\", \"null\", \"null\"],\n",
    "            [\"null\", \"null\", \"null\", \"null\", \"null\", \"null\", \"null\", \"null\"],\n",
    "            [\"null\", \"null\", \"null\", \"null\", \"null\", \"null\", \"null\", \"null\"],\n",
    "            [\"null\", \"null\", \"null\", \"w-pawn\", \"null\", \"null\", \"null\", \"null\"],\n",
    "            [\"w-pawn\", \"w-pawn\", \"w-pawn\", \"w-pawn\", \"w-pawn\", \"w-pawn\", \"w-pawn\", \"w-pawn\"],\n",
    "            [\"w-rook\", \"w-knight\", \"w-bishop\", \"w-queen\", \"w-king\", \"w-bishop\", \"w-knight\", \"w-rook\"]\n",
    "        ]\n",
    "legal = choose_move(cboard,'WHITE')\n",
    "cboard = legal"
   ]
  },
  {
   "cell_type": "code",
   "execution_count": null,
   "metadata": {},
   "outputs": [],
   "source": []
  },
  {
   "cell_type": "code",
   "execution_count": 24,
   "metadata": {},
   "outputs": [
    {
     "name": "stdout",
     "output_type": "stream",
     "text": [
      " * Serving Flask app '__main__'\n",
      " * Debug mode: off\n"
     ]
    },
    {
     "name": "stderr",
     "output_type": "stream",
     "text": [
      "WARNING: This is a development server. Do not use it in a production deployment. Use a production WSGI server instead.\n",
      " * Running on http://127.0.0.1:5000\n",
      "Press CTRL+C to quit\n",
      "127.0.0.1 - - [29/Jan/2024 12:13:06] \"OPTIONS /play HTTP/1.1\" 200 -\n",
      "127.0.0.1 - - [29/Jan/2024 12:13:06] \"OPTIONS /play HTTP/1.1\" 200 -\n"
     ]
    },
    {
     "name": "stdout",
     "output_type": "stream",
     "text": [
      "<class 'list'>\n",
      "[['b-rook', 'b-knight', 'b-bishop', 'b-queen', 'b-king', 'b-bishop', 'b-knight', 'b-rook'], ['b-pawn', 'b-pawn', 'b-pawn', 'b-pawn', 'b-pawn', 'b-pawn', 'b-pawn', 'b-pawn'], ['null', 'null', 'null', 'null', 'null', 'null', 'null', 'null'], ['null', 'null', 'null', 'null', 'null', 'null', 'null', 'null'], ['null', 'null', 'null', 'null', 'null', 'null', 'null', 'null'], ['null', 'null', 'null', 'null', 'null', 'null', 'null', 'null'], ['w-pawn', 'w-pawn', 'w-pawn', 'w-pawn', 'w-pawn', 'w-pawn', 'w-pawn', 'w-pawn'], ['w-rook', 'w-knight', 'w-bishop', 'w-queen', 'w-king', 'w-bishop', 'w-knight', 'w-rook']]\n",
      "r n b q k b n r\n",
      "p p p p p p p p\n",
      ". . . . . . . .\n",
      ". . . . . . . .\n",
      ". . . . . . . .\n",
      ". . . . . . . .\n",
      "P P P P P P P P\n",
      "R N B Q K B N R\n",
      "<class 'list'>\n",
      "[['b-rook', 'b-knight', 'b-bishop', 'b-queen', 'b-king', 'b-bishop', 'b-knight', 'b-rook'], ['b-pawn', 'b-pawn', 'b-pawn', 'b-pawn', 'b-pawn', 'b-pawn', 'b-pawn', 'b-pawn'], ['null', 'null', 'null', 'null', 'null', 'null', 'null', 'null'], ['null', 'null', 'null', 'null', 'null', 'null', 'null', 'null'], ['null', 'null', 'null', 'null', 'null', 'null', 'null', 'null'], ['null', 'null', 'null', 'null', 'null', 'null', 'null', 'null'], ['w-pawn', 'w-pawn', 'w-pawn', 'w-pawn', 'w-pawn', 'w-pawn', 'w-pawn', 'w-pawn'], ['w-rook', 'w-knight', 'w-bishop', 'w-queen', 'w-king', 'w-bishop', 'w-knight', 'w-rook']]\n",
      "r n b q k b n r\n",
      "p p p p p p p p\n",
      ". . . . . . . .\n",
      ". . . . . . . .\n",
      ". . . . . . . .\n",
      ". . . . . . . .\n",
      "P P P P P P P P\n",
      "R N B Q K B N R\n"
     ]
    },
    {
     "name": "stderr",
     "output_type": "stream",
     "text": [
      "127.0.0.1 - - [29/Jan/2024 12:13:07] \"POST /play HTTP/1.1\" 200 -\n",
      "127.0.0.1 - - [29/Jan/2024 12:13:07] \"POST /play HTTP/1.1\" 200 -\n"
     ]
    },
    {
     "name": "stdout",
     "output_type": "stream",
     "text": [
      "b-rook   b-knight   b-bishop   b-queen   b-king   b-bishop   b-knight   b-rook \n",
      " b-pawn   b-pawn   b-pawn   b-pawn   b-pawn   b-pawn   b-pawn   b-pawn \n",
      " null   null   null   null   null   null   null   null \n",
      " null   null   null   null   null   null   null   null \n",
      " null   null   null   null   w-pawn   null   null   null \n",
      " null   null   null   null   null   null   null   null \n",
      " w-pawn   w-pawn   w-pawn   w-pawn   null   w-pawn   w-pawn   w-pawn \n",
      " w-rook   w-knight   w-bishop   w-queen   w-king   w-bishop   w-knight   w-rook\n",
      "b-rook   b-knight   b-bishop   b-queen   b-king   b-bishop   b-knight   b-rook \n",
      " b-pawn   b-pawn   b-pawn   b-pawn   b-pawn   b-pawn   b-pawn   b-pawn \n",
      " null   null   null   null   null   null   null   null \n",
      " null   null   null   null   null   null   null   null \n",
      " null   null   null   null   w-pawn   null   null   null \n",
      " null   null   null   null   null   null   null   null \n",
      " w-pawn   w-pawn   w-pawn   w-pawn   null   w-pawn   w-pawn   w-pawn \n",
      " w-rook   w-knight   w-bishop   w-queen   w-king   w-bishop   w-knight   w-rook\n"
     ]
    },
    {
     "name": "stderr",
     "output_type": "stream",
     "text": [
      "127.0.0.1 - - [29/Jan/2024 12:13:09] \"POST /play HTTP/1.1\" 200 -\n"
     ]
    },
    {
     "name": "stdout",
     "output_type": "stream",
     "text": [
      "<class 'list'>\n",
      "[['b-rook', 'b-knight', 'b-bishop', 'b-queen', 'b-king', 'b-bishop', 'b-knight', 'b-rook'], ['b-pawn', 'b-pawn', 'b-pawn', 'b-pawn', 'b-pawn', 'b-pawn', 'b-pawn', 'b-pawn'], ['null', 'null', 'null', 'null', 'null', 'null', 'null', 'null'], ['null', 'null', 'null', 'null', 'null', 'null', 'null', 'null'], ['null', 'null', 'null', 'null', 'w-pawn', 'null', 'null', 'null'], ['null', 'null', 'null', 'null', 'null', 'null', 'null', 'null'], ['w-pawn', 'w-pawn', 'w-pawn', 'w-pawn', 'null', 'w-pawn', 'w-pawn', 'w-pawn'], ['w-rook', 'w-knight', 'w-bishop', 'w-queen', 'w-king', 'w-bishop', 'w-knight', 'w-rook']]\n",
      "r n b q k b n r\n",
      "p p p p p p p p\n",
      ". . . . . . . .\n",
      ". . . . . . . .\n",
      ". . . . P . . .\n",
      ". . . . . . . .\n",
      "P P P P . P P P\n",
      "R N B Q K B N R\n",
      "b-rook   b-knight   b-bishop   b-queen   b-king   b-bishop   b-knight   b-rook \n",
      " b-pawn   b-pawn   b-pawn   b-pawn   b-pawn   b-pawn   b-pawn   b-pawn \n",
      " null   null   null   null   null   null   null   null \n",
      " null   null   null   null   null   null   null   null \n",
      " null   null   null   w-pawn   w-pawn   null   null   null \n",
      " null   null   null   null   null   null   null   null \n",
      " w-pawn   w-pawn   w-pawn   null   null   w-pawn   w-pawn   w-pawn \n",
      " w-rook   w-knight   w-bishop   w-queen   w-king   w-bishop   w-knight   w-rook\n"
     ]
    },
    {
     "name": "stderr",
     "output_type": "stream",
     "text": [
      "127.0.0.1 - - [29/Jan/2024 12:13:21] \"OPTIONS /play HTTP/1.1\" 200 -\n",
      "127.0.0.1 - - [29/Jan/2024 12:13:21] \"OPTIONS /play HTTP/1.1\" 200 -\n"
     ]
    },
    {
     "name": "stdout",
     "output_type": "stream",
     "text": [
      "<class 'list'>\n",
      "[['b-rook', 'b-knight', 'b-bishop', 'b-queen', 'b-king', 'b-bishop', 'b-knight', 'b-rook'], ['b-pawn', 'b-pawn', 'b-pawn', 'b-pawn', 'b-pawn', 'b-pawn', 'b-pawn', 'b-pawn'], ['null', 'null', 'null', 'null', 'null', 'null', 'null', 'null'], ['null', 'null', 'null', 'null', 'null', 'null', 'null', 'null'], ['null', 'null', 'null', 'null', 'null', 'null', 'null', 'null'], ['null', 'null', 'null', 'null', 'null', 'null', 'null', 'null'], ['w-pawn', 'w-pawn', 'w-pawn', 'w-pawn', 'w-pawn', 'w-pawn', 'w-pawn', 'w-pawn'], ['w-rook', 'w-knight', 'w-bishop', 'w-queen', 'w-king', 'w-bishop', 'w-knight', 'w-rook']]\n",
      "r n b q k b n r\n",
      "p p p p p p p p\n",
      ". . . . . . . .\n",
      ". . . . . . . .\n",
      ". . . . . . . .\n",
      ". . . . . . . .\n",
      "P P P P P P P P\n",
      "R N B Q K B N R\n",
      "<class 'list'>\n",
      "[['b-rook', 'b-knight', 'b-bishop', 'b-queen', 'b-king', 'b-bishop', 'b-knight', 'b-rook'], ['b-pawn', 'b-pawn', 'b-pawn', 'b-pawn', 'b-pawn', 'b-pawn', 'b-pawn', 'b-pawn'], ['null', 'null', 'null', 'null', 'null', 'null', 'null', 'null'], ['null', 'null', 'null', 'null', 'null', 'null', 'null', 'null'], ['null', 'null', 'null', 'null', 'null', 'null', 'null', 'null'], ['null', 'null', 'null', 'null', 'null', 'null', 'null', 'null'], ['w-pawn', 'w-pawn', 'w-pawn', 'w-pawn', 'w-pawn', 'w-pawn', 'w-pawn', 'w-pawn'], ['w-rook', 'w-knight', 'w-bishop', 'w-queen', 'w-king', 'w-bishop', 'w-knight', 'w-rook']]\n",
      "r n b q k b n r\n",
      "p p p p p p p p\n",
      ". . . . . . . .\n",
      ". . . . . . . .\n",
      ". . . . . . . .\n",
      ". . . . . . . .\n",
      "P P P P P P P P\n",
      "R N B Q K B N R\n"
     ]
    },
    {
     "name": "stderr",
     "output_type": "stream",
     "text": [
      "127.0.0.1 - - [29/Jan/2024 12:13:21] \"POST /play HTTP/1.1\" 200 -\n",
      "127.0.0.1 - - [29/Jan/2024 12:13:21] \"POST /play HTTP/1.1\" 200 -\n"
     ]
    },
    {
     "name": "stdout",
     "output_type": "stream",
     "text": [
      "b-rook   b-knight   b-bishop   b-queen   b-king   b-bishop   b-knight   b-rook \n",
      " b-pawn   b-pawn   b-pawn   b-pawn   b-pawn   b-pawn   b-pawn   b-pawn \n",
      " null   null   null   null   null   null   null   null \n",
      " null   null   null   null   null   null   null   null \n",
      " null   null   null   w-pawn   null   null   null   null \n",
      " null   null   null   null   null   null   null   null \n",
      " w-pawn   w-pawn   w-pawn   null   w-pawn   w-pawn   w-pawn   w-pawn \n",
      " w-rook   w-knight   w-bishop   w-queen   w-king   w-bishop   w-knight   w-rook\n",
      "b-rook   b-knight   b-bishop   b-queen   b-king   b-bishop   b-knight   b-rook \n",
      " b-pawn   b-pawn   b-pawn   b-pawn   b-pawn   b-pawn   b-pawn   b-pawn \n",
      " null   null   null   null   null   null   null   null \n",
      " null   null   null   null   null   null   null   null \n",
      " null   null   null   w-pawn   null   null   null   null \n",
      " null   null   null   null   null   null   null   null \n",
      " w-pawn   w-pawn   w-pawn   null   w-pawn   w-pawn   w-pawn   w-pawn \n",
      " w-rook   w-knight   w-bishop   w-queen   w-king   w-bishop   w-knight   w-rook\n"
     ]
    },
    {
     "name": "stderr",
     "output_type": "stream",
     "text": [
      "127.0.0.1 - - [29/Jan/2024 12:13:23] \"POST /play HTTP/1.1\" 200 -\n"
     ]
    },
    {
     "name": "stdout",
     "output_type": "stream",
     "text": [
      "<class 'list'>\n",
      "[['b-rook', 'b-knight', 'b-bishop', 'b-queen', 'b-king', 'b-bishop', 'b-knight', 'b-rook'], ['b-pawn', 'b-pawn', 'b-pawn', 'b-pawn', 'b-pawn', 'b-pawn', 'b-pawn', 'b-pawn'], ['null', 'null', 'null', 'null', 'null', 'null', 'null', 'null'], ['null', 'null', 'null', 'null', 'null', 'null', 'null', 'null'], ['null', 'null', 'null', 'w-pawn', 'null', 'null', 'null', 'null'], ['null', 'null', 'null', 'null', 'null', 'null', 'null', 'null'], ['w-pawn', 'w-pawn', 'w-pawn', 'null', 'w-pawn', 'w-pawn', 'w-pawn', 'w-pawn'], ['w-rook', 'w-knight', 'w-bishop', 'w-queen', 'w-king', 'w-bishop', 'w-knight', 'w-rook']]\n",
      "r n b q k b n r\n",
      "p p p p p p p p\n",
      ". . . . . . . .\n",
      ". . . . . . . .\n",
      ". . . P . . . .\n",
      ". . . . . . . .\n",
      "P P P . P P P P\n",
      "R N B Q K B N R\n",
      "b-rook   b-knight   b-bishop   b-queen   b-king   b-bishop   b-knight   b-rook \n",
      " b-pawn   b-pawn   b-pawn   b-pawn   b-pawn   b-pawn   b-pawn   b-pawn \n",
      " null   null   null   null   null   null   null   null \n",
      " null   null   null   null   null   null   null   null \n",
      " null   null   w-pawn   w-pawn   null   null   null   null \n",
      " null   null   null   null   null   null   null   null \n",
      " w-pawn   w-pawn   null   null   w-pawn   w-pawn   w-pawn   w-pawn \n",
      " w-rook   w-knight   w-bishop   w-queen   w-king   w-bishop   w-knight   w-rook\n"
     ]
    },
    {
     "name": "stderr",
     "output_type": "stream",
     "text": [
      "127.0.0.1 - - [29/Jan/2024 12:13:25] \"POST /play HTTP/1.1\" 200 -\n"
     ]
    },
    {
     "name": "stdout",
     "output_type": "stream",
     "text": [
      "<class 'list'>\n",
      "[['b-rook', 'b-knight', 'b-bishop', 'b-queen', 'b-king', 'b-bishop', 'b-knight', 'b-rook'], ['b-pawn', 'b-pawn', 'b-pawn', 'b-pawn', 'null', 'b-pawn', 'b-pawn', 'b-pawn'], ['null', 'null', 'null', 'null', 'null', 'null', 'null', 'null'], ['null', 'null', 'null', 'null', 'b-pawn', 'null', 'null', 'null'], ['null', 'null', 'null', 'w-pawn', 'null', 'null', 'null', 'null'], ['null', 'null', 'null', 'null', 'null', 'null', 'null', 'null'], ['w-pawn', 'w-pawn', 'w-pawn', 'null', 'w-pawn', 'w-pawn', 'w-pawn', 'w-pawn'], ['w-rook', 'w-knight', 'w-bishop', 'w-queen', 'w-king', 'w-bishop', 'w-knight', 'w-rook']]\n",
      "r n b q k b n r\n",
      "p p p p . p p p\n",
      ". . . . . . . .\n",
      ". . . . p . . .\n",
      ". . . P . . . .\n",
      ". . . . . . . .\n",
      "P P P . P P P P\n",
      "R N B Q K B N R\n",
      "b-rook   b-knight   b-bishop   b-queen   b-king   b-bishop   b-knight   b-rook \n",
      " b-pawn   b-pawn   b-pawn   b-pawn   null   b-pawn   b-pawn   b-pawn \n",
      " null   null   null   null   null   null   null   null \n",
      " null   null   null   null   w-pawn   null   null   null \n",
      " null   null   null   null   null   null   null   null \n",
      " null   null   null   null   null   null   null   null \n",
      " w-pawn   w-pawn   w-pawn   null   w-pawn   w-pawn   w-pawn   w-pawn \n",
      " w-rook   w-knight   w-bishop   w-queen   w-king   w-bishop   w-knight   w-rook\n"
     ]
    },
    {
     "name": "stderr",
     "output_type": "stream",
     "text": [
      "127.0.0.1 - - [29/Jan/2024 12:13:27] \"OPTIONS /play HTTP/1.1\" 200 -\n",
      "127.0.0.1 - - [29/Jan/2024 12:13:27] \"POST /play HTTP/1.1\" 200 -\n"
     ]
    },
    {
     "name": "stdout",
     "output_type": "stream",
     "text": [
      "<class 'list'>\n",
      "[['b-rook', 'b-knight', 'b-bishop', 'b-queen', 'b-king', 'b-bishop', 'b-knight', 'b-rook'], ['b-pawn', 'b-pawn', 'b-pawn', 'b-pawn', 'null', 'b-pawn', 'b-pawn', 'b-pawn'], ['null', 'null', 'null', 'null', 'null', 'null', 'null', 'null'], ['null', 'null', 'null', 'null', 'w-pawn', 'null', 'null', 'null'], ['null', 'null', 'null', 'null', 'null', 'null', 'null', 'null'], ['null', 'null', 'null', 'null', 'null', 'null', 'null', 'null'], ['w-pawn', 'w-pawn', 'w-pawn', 'null', 'w-pawn', 'w-pawn', 'w-pawn', 'w-pawn'], ['w-rook', 'w-knight', 'w-bishop', 'w-queen', 'w-king', 'w-bishop', 'w-knight', 'w-rook']]\n",
      "r n b q k b n r\n",
      "p p p p . p p p\n",
      ". . . . . . . .\n",
      ". . . . P . . .\n",
      ". . . . . . . .\n",
      ". . . . . . . .\n",
      "P P P . P P P P\n",
      "R N B Q K B N R\n",
      "b-rook   b-knight   b-bishop   b-queen   b-king   b-bishop   b-knight   b-rook \n",
      " b-pawn   b-pawn   b-pawn   b-pawn   null   b-pawn   b-pawn   b-pawn \n",
      " null   null   null   null   null   null   null   null \n",
      " null   null   null   null   w-pawn   null   null   null \n",
      " null   null   null   null   w-pawn   null   null   null \n",
      " null   null   null   null   null   null   null   null \n",
      " w-pawn   w-pawn   w-pawn   null   null   w-pawn   w-pawn   w-pawn \n",
      " w-rook   w-knight   w-bishop   w-queen   w-king   w-bishop   w-knight   w-rook\n"
     ]
    },
    {
     "name": "stderr",
     "output_type": "stream",
     "text": [
      "127.0.0.1 - - [29/Jan/2024 12:13:30] \"POST /play HTTP/1.1\" 200 -\n"
     ]
    },
    {
     "name": "stdout",
     "output_type": "stream",
     "text": [
      "<class 'list'>\n",
      "[['b-rook', 'b-knight', 'b-bishop', 'null', 'b-king', 'b-bishop', 'b-knight', 'b-rook'], ['b-pawn', 'b-pawn', 'b-pawn', 'b-pawn', 'null', 'b-pawn', 'b-pawn', 'b-pawn'], ['null', 'null', 'null', 'null', 'null', 'null', 'null', 'null'], ['null', 'null', 'null', 'null', 'w-pawn', 'null', 'b-queen', 'null'], ['null', 'null', 'null', 'null', 'null', 'null', 'null', 'null'], ['null', 'null', 'null', 'null', 'null', 'null', 'null', 'null'], ['w-pawn', 'w-pawn', 'w-pawn', 'null', 'w-pawn', 'w-pawn', 'w-pawn', 'w-pawn'], ['w-rook', 'w-knight', 'w-bishop', 'w-queen', 'w-king', 'w-bishop', 'w-knight', 'w-rook']]\n",
      "r n b . k b n r\n",
      "p p p p . p p p\n",
      ". . . . . . . .\n",
      ". . . . P . q .\n",
      ". . . . . . . .\n",
      ". . . . . . . .\n",
      "P P P . P P P P\n",
      "R N B Q K B N R\n",
      "b-rook   b-knight   b-bishop   null   b-king   b-bishop   b-knight   b-rook \n",
      " b-pawn   b-pawn   b-pawn   b-pawn   null   b-pawn   b-pawn   b-pawn \n",
      " null   null   null   null   null   null   null   null \n",
      " null   null   null   null   w-pawn   null   b-queen   null \n",
      " null   null   null   null   null   null   null   null \n",
      " null   null   w-knight   null   null   null   null   null \n",
      " w-pawn   w-pawn   w-pawn   null   w-pawn   w-pawn   w-pawn   w-pawn \n",
      " w-rook   null   w-bishop   w-queen   w-king   w-bishop   w-knight   w-rook\n"
     ]
    },
    {
     "name": "stderr",
     "output_type": "stream",
     "text": [
      "127.0.0.1 - - [29/Jan/2024 12:13:31] \"POST /play HTTP/1.1\" 200 -\n"
     ]
    },
    {
     "name": "stdout",
     "output_type": "stream",
     "text": [
      "<class 'list'>\n",
      "[['b-rook', 'b-knight', 'b-bishop', 'null', 'b-king', 'b-bishop', 'b-knight', 'b-rook'], ['b-pawn', 'b-pawn', 'b-pawn', 'b-pawn', 'null', 'b-pawn', 'b-pawn', 'b-pawn'], ['null', 'null', 'null', 'null', 'null', 'null', 'null', 'null'], ['null', 'null', 'null', 'null', 'w-pawn', 'null', 'b-queen', 'null'], ['null', 'null', 'null', 'null', 'null', 'null', 'null', 'null'], ['null', 'null', 'w-knight', 'null', 'null', 'null', 'null', 'null'], ['w-pawn', 'w-pawn', 'w-pawn', 'null', 'w-pawn', 'w-pawn', 'w-pawn', 'w-pawn'], ['w-rook', 'null', 'w-bishop', 'w-queen', 'w-king', 'w-bishop', 'w-knight', 'w-rook']]\n",
      "r n b . k b n r\n",
      "p p p p . p p p\n",
      ". . . . . . . .\n",
      ". . . . P . q .\n",
      ". . . . . . . .\n",
      ". . N . . . . .\n",
      "P P P . P P P P\n",
      "R . B Q K B N R\n",
      "b-rook   b-knight   b-bishop   null   b-king   b-bishop   b-knight   b-rook \n",
      " b-pawn   b-pawn   b-pawn   b-pawn   null   b-pawn   b-pawn   b-pawn \n",
      " null   null   null   null   null   null   null   null \n",
      " null   null   null   null   w-pawn   null   b-queen   null \n",
      " null   null   null   null   w-pawn   null   null   null \n",
      " null   null   w-knight   null   null   null   null   null \n",
      " w-pawn   w-pawn   w-pawn   null   null   w-pawn   w-pawn   w-pawn \n",
      " w-rook   null   w-bishop   w-queen   w-king   w-bishop   w-knight   w-rook\n"
     ]
    },
    {
     "name": "stderr",
     "output_type": "stream",
     "text": [
      "127.0.0.1 - - [29/Jan/2024 12:13:35] \"OPTIONS /play HTTP/1.1\" 200 -\n",
      "127.0.0.1 - - [29/Jan/2024 12:13:35] \"POST /play HTTP/1.1\" 200 -\n"
     ]
    },
    {
     "name": "stdout",
     "output_type": "stream",
     "text": [
      "<class 'list'>\n",
      "[['b-rook', 'b-knight', 'b-bishop', 'null', 'b-king', 'b-bishop', 'b-knight', 'b-rook'], ['b-pawn', 'b-pawn', 'b-pawn', 'b-pawn', 'null', 'b-pawn', 'b-pawn', 'b-pawn'], ['null', 'null', 'null', 'null', 'null', 'null', 'null', 'null'], ['null', 'null', 'null', 'null', 'b-queen', 'null', 'null', 'null'], ['null', 'null', 'null', 'null', 'null', 'null', 'null', 'null'], ['null', 'null', 'w-knight', 'null', 'null', 'null', 'null', 'null'], ['w-pawn', 'w-pawn', 'w-pawn', 'null', 'w-pawn', 'w-pawn', 'w-pawn', 'w-pawn'], ['w-rook', 'null', 'w-bishop', 'w-queen', 'w-king', 'w-bishop', 'w-knight', 'w-rook']]\n",
      "r n b . k b n r\n",
      "p p p p . p p p\n",
      ". . . . . . . .\n",
      ". . . . q . . .\n",
      ". . . . . . . .\n",
      ". . N . . . . .\n",
      "P P P . P P P P\n",
      "R . B Q K B N R\n",
      "b-rook   b-knight   b-bishop   null   b-king   b-bishop   b-knight   b-rook \n",
      " b-pawn   b-pawn   b-pawn   b-pawn   null   b-pawn   b-pawn   b-pawn \n",
      " null   null   null   null   null   null   null   null \n",
      " null   null   null   null   b-queen   null   null   null \n",
      " null   null   null   null   w-pawn   null   null   null \n",
      " null   null   w-knight   null   null   null   null   null \n",
      " w-pawn   w-pawn   w-pawn   null   null   w-pawn   w-pawn   w-pawn \n",
      " w-rook   null   w-bishop   w-queen   w-king   w-bishop   w-knight   w-rook\n"
     ]
    },
    {
     "name": "stderr",
     "output_type": "stream",
     "text": [
      "127.0.0.1 - - [29/Jan/2024 12:13:36] \"POST /play HTTP/1.1\" 200 -\n"
     ]
    },
    {
     "name": "stdout",
     "output_type": "stream",
     "text": [
      "<class 'list'>\n",
      "[['b-rook', 'b-knight', 'b-bishop', 'null', 'b-king', 'b-bishop', 'b-knight', 'b-rook'], ['b-pawn', 'b-pawn', 'b-pawn', 'b-pawn', 'null', 'b-pawn', 'b-pawn', 'b-pawn'], ['null', 'null', 'null', 'null', 'null', 'null', 'null', 'null'], ['null', 'null', 'null', 'null', 'b-queen', 'null', 'null', 'null'], ['null', 'null', 'null', 'null', 'w-pawn', 'null', 'null', 'null'], ['null', 'null', 'w-knight', 'null', 'null', 'null', 'null', 'null'], ['w-pawn', 'w-pawn', 'w-pawn', 'null', 'null', 'w-pawn', 'w-pawn', 'w-pawn'], ['w-rook', 'null', 'w-bishop', 'w-queen', 'w-king', 'w-bishop', 'w-knight', 'w-rook']]\n",
      "r n b . k b n r\n",
      "p p p p . p p p\n",
      ". . . . . . . .\n",
      ". . . . q . . .\n",
      ". . . . P . . .\n",
      ". . N . . . . .\n",
      "P P P . . P P P\n",
      "R . B Q K B N R\n",
      "b-rook   b-knight   b-bishop   null   b-king   b-bishop   b-knight   b-rook \n",
      " b-pawn   b-pawn   b-pawn   b-pawn   null   b-pawn   b-pawn   b-pawn \n",
      " null   null   null   null   null   null   null   null \n",
      " null   null   null   null   b-queen   null   null   null \n",
      " null   null   null   null   w-pawn   null   null   null \n",
      " null   null   w-knight   null   w-bishop   null   null   null \n",
      " w-pawn   w-pawn   w-pawn   null   null   w-pawn   w-pawn   w-pawn \n",
      " w-rook   null   null   w-queen   w-king   w-bishop   w-knight   w-rook\n"
     ]
    },
    {
     "name": "stderr",
     "output_type": "stream",
     "text": [
      "127.0.0.1 - - [29/Jan/2024 12:13:40] \"OPTIONS /play HTTP/1.1\" 200 -\n",
      "127.0.0.1 - - [29/Jan/2024 12:13:41] \"POST /play HTTP/1.1\" 200 -\n"
     ]
    },
    {
     "name": "stdout",
     "output_type": "stream",
     "text": [
      "<class 'list'>\n",
      "[['b-rook', 'b-knight', 'b-bishop', 'null', 'b-king', 'b-bishop', 'b-knight', 'b-rook'], ['b-pawn', 'b-pawn', 'b-pawn', 'b-pawn', 'null', 'b-pawn', 'b-pawn', 'b-pawn'], ['null', 'null', 'null', 'null', 'null', 'null', 'null', 'null'], ['null', 'null', 'null', 'null', 'null', 'null', 'null', 'null'], ['null', 'null', 'null', 'null', 'w-pawn', 'b-queen', 'null', 'null'], ['null', 'null', 'w-knight', 'null', 'null', 'null', 'null', 'null'], ['w-pawn', 'w-pawn', 'w-pawn', 'null', 'null', 'w-pawn', 'w-pawn', 'w-pawn'], ['w-rook', 'null', 'w-bishop', 'w-queen', 'w-king', 'w-bishop', 'w-knight', 'w-rook']]\n",
      "r n b . k b n r\n",
      "p p p p . p p p\n",
      ". . . . . . . .\n",
      ". . . . . . . .\n",
      ". . . . P q . .\n",
      ". . N . . . . .\n",
      "P P P . . P P P\n",
      "R . B Q K B N R\n",
      "b-rook   b-knight   b-bishop   null   b-king   b-bishop   b-knight   b-rook \n",
      " b-pawn   b-pawn   b-pawn   b-pawn   null   b-pawn   b-pawn   b-pawn \n",
      " null   null   null   null   null   null   null   null \n",
      " null   null   null   null   null   null   null   null \n",
      " null   null   null   null   w-pawn   w-bishop   null   null \n",
      " null   null   w-knight   null   null   null   null   null \n",
      " w-pawn   w-pawn   w-pawn   null   null   w-pawn   w-pawn   w-pawn \n",
      " w-rook   null   null   w-queen   w-king   w-bishop   w-knight   w-rook\n"
     ]
    },
    {
     "name": "stderr",
     "output_type": "stream",
     "text": [
      "127.0.0.1 - - [29/Jan/2024 12:13:42] \"POST /play HTTP/1.1\" 200 -\n"
     ]
    },
    {
     "name": "stdout",
     "output_type": "stream",
     "text": [
      "<class 'list'>\n",
      "[['b-rook', 'b-knight', 'b-bishop', 'null', 'b-king', 'b-bishop', 'b-knight', 'b-rook'], ['b-pawn', 'b-pawn', 'b-pawn', 'b-pawn', 'null', 'b-pawn', 'b-pawn', 'b-pawn'], ['null', 'null', 'null', 'null', 'null', 'null', 'null', 'null'], ['null', 'null', 'null', 'null', 'null', 'null', 'null', 'null'], ['null', 'null', 'null', 'null', 'w-pawn', 'w-bishop', 'null', 'null'], ['null', 'null', 'w-knight', 'null', 'null', 'null', 'null', 'null'], ['w-pawn', 'w-pawn', 'w-pawn', 'null', 'null', 'w-pawn', 'w-pawn', 'w-pawn'], ['w-rook', 'null', 'null', 'w-queen', 'w-king', 'w-bishop', 'w-knight', 'w-rook']]\n",
      "r n b . k b n r\n",
      "p p p p . p p p\n",
      ". . . . . . . .\n",
      ". . . . . . . .\n",
      ". . . . P B . .\n",
      ". . N . . . . .\n",
      "P P P . . P P P\n",
      "R . . Q K B N R\n",
      "b-rook   b-knight   b-bishop   null   b-king   b-bishop   b-knight   b-rook \n",
      " b-pawn   b-pawn   b-pawn   b-pawn   null   b-pawn   b-pawn   b-pawn \n",
      " null   null   null   null   null   null   null   null \n",
      " null   null   null   null   null   null   null   null \n",
      " null   null   null   null   w-pawn   null   null   null \n",
      " null   null   w-knight   null   w-bishop   null   null   null \n",
      " w-pawn   w-pawn   w-pawn   null   null   w-pawn   w-pawn   w-pawn \n",
      " w-rook   null   null   w-queen   w-king   w-bishop   w-knight   w-rook\n"
     ]
    },
    {
     "name": "stderr",
     "output_type": "stream",
     "text": [
      "127.0.0.1 - - [29/Jan/2024 12:13:45] \"OPTIONS /play HTTP/1.1\" 200 -\n",
      "127.0.0.1 - - [29/Jan/2024 12:13:46] \"POST /play HTTP/1.1\" 200 -\n"
     ]
    },
    {
     "name": "stdout",
     "output_type": "stream",
     "text": [
      "<class 'list'>\n",
      "[['b-rook', 'b-knight', 'b-bishop', 'null', 'b-king', 'null', 'b-knight', 'b-rook'], ['b-pawn', 'b-pawn', 'b-pawn', 'b-pawn', 'null', 'b-pawn', 'b-pawn', 'b-pawn'], ['null', 'null', 'null', 'null', 'null', 'null', 'null', 'null'], ['null', 'null', 'b-bishop', 'null', 'null', 'null', 'null', 'null'], ['null', 'null', 'null', 'null', 'w-pawn', 'w-bishop', 'null', 'null'], ['null', 'null', 'w-knight', 'null', 'null', 'null', 'null', 'null'], ['w-pawn', 'w-pawn', 'w-pawn', 'null', 'null', 'w-pawn', 'w-pawn', 'w-pawn'], ['w-rook', 'null', 'null', 'w-queen', 'w-king', 'w-bishop', 'w-knight', 'w-rook']]\n",
      "r n b . k . n r\n",
      "p p p p . p p p\n",
      ". . . . . . . .\n",
      ". . b . . . . .\n",
      ". . . . P B . .\n",
      ". . N . . . . .\n",
      "P P P . . P P P\n",
      "R . . Q K B N R\n",
      "b-rook   b-knight   b-bishop   null   b-king   null   b-knight   b-rook \n",
      " b-pawn   b-pawn   b-pawn   b-pawn   null   b-pawn   b-pawn   b-pawn \n",
      " null   null   null   null   null   null   null   null \n",
      " null   null   b-bishop   null   null   null   null   null \n",
      " null   null   null   null   w-pawn   w-bishop   null   null \n",
      " null   null   w-knight   null   null   w-knight   null   null \n",
      " w-pawn   w-pawn   w-pawn   null   null   w-pawn   w-pawn   w-pawn \n",
      " w-rook   null   null   w-queen   w-king   w-bishop   null   w-rook\n"
     ]
    },
    {
     "name": "stderr",
     "output_type": "stream",
     "text": [
      "127.0.0.1 - - [29/Jan/2024 12:13:47] \"POST /play HTTP/1.1\" 200 -\n"
     ]
    },
    {
     "name": "stdout",
     "output_type": "stream",
     "text": [
      "<class 'list'>\n",
      "[['b-rook', 'b-knight', 'b-bishop', 'null', 'b-king', 'null', 'b-knight', 'b-rook'], ['b-pawn', 'b-pawn', 'b-pawn', 'b-pawn', 'null', 'b-pawn', 'b-pawn', 'b-pawn'], ['null', 'null', 'null', 'null', 'null', 'null', 'null', 'null'], ['null', 'null', 'b-bishop', 'null', 'null', 'null', 'null', 'null'], ['null', 'null', 'null', 'null', 'w-pawn', 'w-bishop', 'null', 'null'], ['null', 'null', 'w-knight', 'null', 'null', 'w-knight', 'null', 'null'], ['w-pawn', 'w-pawn', 'w-pawn', 'null', 'null', 'w-pawn', 'w-pawn', 'w-pawn'], ['w-rook', 'null', 'null', 'w-queen', 'w-king', 'w-bishop', 'null', 'w-rook']]\n",
      "r n b . k . n r\n",
      "p p p p . p p p\n",
      ". . . . . . . .\n",
      ". . b . . . . .\n",
      ". . . . P B . .\n",
      ". . N . . N . .\n",
      "P P P . . P P P\n",
      "R . . Q K B . R\n",
      "b-rook   b-knight   b-bishop   null   b-king   null   b-knight   b-rook \n",
      " b-pawn   b-pawn   b-pawn   b-pawn   null   b-pawn   b-pawn   b-pawn \n",
      " null   null   null   null   null   null   null   null \n",
      " null   null   b-bishop   null   null   null   null   null \n",
      " null   null   null   null   w-pawn   w-bishop   null   null \n",
      " null   null   w-knight   null   null   w-knight   null   null \n",
      " w-pawn   w-pawn   w-pawn   null   w-bishop   w-pawn   w-pawn   w-pawn \n",
      " w-rook   null   null   w-queen   w-king   null   null   w-rook\n"
     ]
    }
   ],
   "source": [
    "from flask import Flask, request, jsonify\n",
    "from flask_cors import CORS\n",
    "\n",
    "app = Flask(__name__)\n",
    "CORS(app, resources={r\"/*\": {\"origins\": \"http://localhost:5173\"}})\n",
    "\n",
    "# Load the pre-trained model\n",
    "# model = ChessNet(hidden_layers=4, hidden_size=200)\n",
    "# model.load_state_dict(torch.load('model1.pth'))\n",
    "# model.eval()\n",
    "\n",
    "\n",
    "@app.route('/play', methods=['POST'])\n",
    "def play():\n",
    "           \n",
    "            chessboard = request.json['chessboard']\n",
    "            print(type(chessboard))\n",
    "            print(chessboard)\n",
    "            new_board = choose_move(chessboard,'WHITE')\n",
    "            # new_board=chessboard\n",
    "            # print(type(new_board))\n",
    "            return jsonify(new_board)\n",
    "\n",
    "if __name__ == '__main__':\n",
    "    app.run(port=5000)\n",
    "\n",
    "# model = ChessNet(hidden_layers=4, hidden_size=200)\n",
    "# model.load_state_dict(torch.load('model1.pth'))\n",
    "# model.eval()"
   ]
  },
  {
   "cell_type": "code",
   "execution_count": null,
   "metadata": {},
   "outputs": [],
   "source": []
  }
 ],
 "metadata": {
  "kernelspec": {
   "display_name": "base",
   "language": "python",
   "name": "python3"
  },
  "language_info": {
   "codemirror_mode": {
    "name": "ipython",
    "version": 3
   },
   "file_extension": ".py",
   "mimetype": "text/x-python",
   "name": "python",
   "nbconvert_exporter": "python",
   "pygments_lexer": "ipython3",
   "version": "3.11.5"
  }
 },
 "nbformat": 4,
 "nbformat_minor": 2
}
